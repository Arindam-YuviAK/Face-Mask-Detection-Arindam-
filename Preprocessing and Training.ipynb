{
 "cells": [
  {
   "cell_type": "markdown",
   "id": "c67175ed",
   "metadata": {},
   "source": [
    "# Data Preprocessing and Training the CNN Model"
   ]
  },
  {
   "cell_type": "code",
   "execution_count": 1,
   "id": "b1bdaaa7",
   "metadata": {},
   "outputs": [],
   "source": [
    "import warnings\n",
    "warnings.filterwarnings('ignore')\n",
    "import cv2\n",
    "import numpy as np\n",
    "import os\n",
    "import matplotlib.pyplot as plt\n",
    "from sklearn.model_selection import train_test_split\n",
    "from keras.preprocessing.image import ImageDataGenerator\n",
    "from keras.utils.np_utils import to_categorical\n",
    "from keras.models import Sequential\n",
    "from keras.layers import Conv2D, Dense, MaxPooling2D, Activation, Dropout, Flatten\n",
    "from tensorflow.keras.optimizers import Adam"
   ]
  },
  {
   "cell_type": "code",
   "execution_count": 2,
   "id": "b4d5400f",
   "metadata": {},
   "outputs": [],
   "source": [
    "path='images'\n",
    "images=[]\n",
    "classNo=[]\n",
    "testRatio=0.2\n",
    "valRatio=0.2\n",
    "imgDimension=(32,32,1)"
   ]
  },
  {
   "cell_type": "code",
   "execution_count": 3,
   "id": "459e3542",
   "metadata": {},
   "outputs": [],
   "source": [
    "myList=os.listdir(path)\n",
    "numOfClasses=len(myList)"
   ]
  },
  {
   "cell_type": "code",
   "execution_count": 4,
   "id": "b7d2733a",
   "metadata": {},
   "outputs": [
    {
     "name": "stdout",
     "output_type": "stream",
     "text": [
      "Importing Classes..........\n",
      "0\n",
      "1\n"
     ]
    }
   ],
   "source": [
    "# print(numOfClasses)\n",
    "print(\"Importing Classes..........\")\n",
    "for x in range(0, numOfClasses):\n",
    "\tmyPicList=os.listdir(path+\"/\"+str(x))\n",
    "\t# myData/0/img.jpg\n",
    "\tfor y in myPicList:\n",
    "\t\tcurImg=cv2.imread(path+\"/\"+str(x)+\"/\"+y)\n",
    "\t\tcurImg=cv2.resize(curImg,(imgDimension[0],imgDimension[1]))\n",
    "\t\timages.append(curImg)\n",
    "\t\tclassNo.append(x)\n",
    "\tprint(x)\n",
    "\n",
    "images=np.array(images)\n",
    "classNo=np.array(classNo)"
   ]
  },
  {
   "cell_type": "code",
   "execution_count": 5,
   "id": "137d4d4c",
   "metadata": {},
   "outputs": [
    {
     "data": {
      "image/png": "[encoded data removed]",
      "text/plain": [
       "<Figure size 720x360 with 1 Axes>"
      ]
     },
     "metadata": {
      "needs_background": "light"
     },
     "output_type": "display_data"
    }
   ],
   "source": [
    "#########Spliting The Data###########\n",
    "\n",
    "x_train, x_test, y_train, y_test=train_test_split(images, classNo, test_size=testRatio)\n",
    "x_train, x_validation, y_train, y_validation=train_test_split(x_train, y_train, test_size=valRatio)\n",
    "\n",
    "# # print(x_train.shape)\n",
    "\n",
    "numOfSample=[]\n",
    "\n",
    "for x in range(0,numOfClasses):\n",
    "\tnumOfSample.append(len(np.where(y_train==x)[0]))\n",
    "\n",
    "\n",
    "plt.figure(figsize=(10,5))\n",
    "plt.bar(range(0, numOfClasses),numOfSample)\n",
    "plt.title(\"Bar Plot of Classes & Images\")\n",
    "plt.xlabel(\"No Of Classes\")\n",
    "plt.ylabel(\"No of Images\")\n",
    "plt.show()"
   ]
  },
  {
   "cell_type": "code",
   "execution_count": 6,
   "id": "d05636b8",
   "metadata": {},
   "outputs": [],
   "source": [
    "def preprocessing(img):\n",
    "\t# img=np.astype(\"uint8\")\n",
    "\timg=cv2.cvtColor(img, cv2.COLOR_BGR2GRAY)\n",
    "\timg=cv2.equalizeHist(img)\n",
    "\timg=img/255\n",
    "\treturn img"
   ]
  },
  {
   "cell_type": "code",
   "execution_count": 7,
   "id": "51970af1",
   "metadata": {},
   "outputs": [],
   "source": [
    "x_train=np.array(list(map(preprocessing, x_train)))\n",
    "x_test=np.array(list(map(preprocessing, x_test)))\n",
    "x_validation=np.array(list(map(preprocessing, x_validation)))\n",
    "\n",
    "x_train=x_train.reshape(x_train.shape[0], x_train.shape[1], x_train.shape[2],1)\n",
    "x_test=x_test.reshape(x_test.shape[0], x_test.shape[1], x_test.shape[2],1)\n",
    "x_validation=x_validation.reshape(x_validation.shape[0], x_validation.shape[1], x_validation.shape[2],1)"
   ]
  },
  {
   "cell_type": "code",
   "execution_count": 8,
   "id": "85400922",
   "metadata": {},
   "outputs": [],
   "source": [
    "dataGen=ImageDataGenerator(\n",
    "\twidth_shift_range=0.1,\n",
    "\theight_shift_range=0.1,\n",
    "\tzoom_range=0.2,\n",
    "\tshear_range=0.1,\n",
    "\trotation_range=10)\n",
    "\n",
    "dataGen.fit(x_train)\n",
    "\n",
    "y_train=to_categorical(y_train, numOfClasses)\n",
    "y_test=to_categorical(y_test, numOfClasses)\n",
    "y_validation=to_categorical(y_validation, numOfClasses)"
   ]
  },
  {
   "cell_type": "code",
   "execution_count": 9,
   "id": "a6ed80f7",
   "metadata": {},
   "outputs": [],
   "source": [
    "def myModel():\n",
    "\tsizeOfFilter1=(3,3)\n",
    "\tsizeOfFilter2=(3,3)\n",
    "\tsizeOfPool=(2,2)\n",
    "\n",
    "\tmodel=Sequential()\n",
    "\tmodel.add((Conv2D(32, sizeOfFilter1, input_shape=(imgDimension[0],imgDimension[1],1),activation='relu')))\n",
    "\tmodel.add((Conv2D(32, sizeOfFilter1,activation='relu')))\n",
    "\tmodel.add(MaxPooling2D(pool_size=sizeOfPool))\n",
    "\n",
    "\tmodel.add((Conv2D(64, sizeOfFilter2,activation='relu')))\n",
    "\tmodel.add((Conv2D(64, sizeOfFilter2,activation='relu')))\n",
    "\tmodel.add(MaxPooling2D(pool_size=sizeOfPool))\n",
    "\tmodel.add(Dropout(0.5))\n",
    "\n",
    "\n",
    "\tmodel.add(Flatten())\n",
    "\tmodel.add(Dense(64, activation='relu'))\n",
    "\tmodel.add(Dropout(0.5))\n",
    "\tmodel.add(Dense(numOfClasses, activation='softmax'))\n",
    "\tmodel.compile(Adam(lr=0.001),loss='categorical_crossentropy',metrics=['accuracy'])\n",
    "\treturn model"
   ]
  },
  {
   "cell_type": "code",
   "execution_count": 10,
   "id": "a25178b4",
   "metadata": {},
   "outputs": [
    {
     "name": "stdout",
     "output_type": "stream",
     "text": [
      "Model: \"sequential\"\n",
      "_________________________________________________________________\n",
      " Layer (type)                Output Shape              Param #   \n",
      "=================================================================\n",
      " conv2d (Conv2D)             (None, 30, 30, 32)        320       \n",
      "                                                                 \n",
      " conv2d_1 (Conv2D)           (None, 28, 28, 32)        9248      \n",
      "                                                                 \n",
      " max_pooling2d (MaxPooling2D  (None, 14, 14, 32)       0         \n",
      " )                                                               \n",
      "                                                                 \n",
      " conv2d_2 (Conv2D)           (None, 12, 12, 64)        18496     \n",
      "                                                                 \n",
      " conv2d_3 (Conv2D)           (None, 10, 10, 64)        36928     \n",
      "                                                                 \n",
      " max_pooling2d_1 (MaxPooling  (None, 5, 5, 64)         0         \n",
      " 2D)                                                             \n",
      "                                                                 \n",
      " dropout (Dropout)           (None, 5, 5, 64)          0         \n",
      "                                                                 \n",
      " flatten (Flatten)           (None, 1600)              0         \n",
      "                                                                 \n",
      " dense (Dense)               (None, 64)                102464    \n",
      "                                                                 \n",
      " dropout_1 (Dropout)         (None, 64)                0         \n",
      "                                                                 \n",
      " dense_1 (Dense)             (None, 2)                 130       \n",
      "                                                                 \n",
      "=================================================================\n",
      "Total params: 167,586\n",
      "Trainable params: 167,586\n",
      "Non-trainable params: 0\n",
      "_________________________________________________________________\n",
      "None\n",
      "Epoch 1/2\n",
      "  13/1000 [..............................] - ETA: 57s - loss: 0.4587 - accuracy: 0.7844WARNING:tensorflow:Your input ran out of data; interrupting training. Make sure that your dataset or generator can generate at least `steps_per_epoch * epochs` batches (in this case, 2000 batches). You may need to use the repeat() function when building your dataset.\n",
      "1000/1000 [==============================] - 2s 2ms/step - loss: 0.4587 - accuracy: 0.7844 - val_loss: 0.0072 - val_accuracy: 1.0000\n"
     ]
    }
   ],
   "source": [
    "model=myModel()\n",
    "print(model.summary())\n",
    "\n",
    "history=model.fit_generator(dataGen.flow(x_train, y_train,batch_size=50),\n",
    "\tsteps_per_epoch=1000,\n",
    "\tepochs=2,\n",
    "\tvalidation_data=(x_validation,y_validation),\n",
    "\tshuffle=1)\n",
    "\n",
    "model.save(\"MyTrainingModel.h5\")"
   ]
  },
  {
   "cell_type": "code",
   "execution_count": null,
   "id": "a68b5b8e",
   "metadata": {},
   "outputs": [],
   "source": []
  }
 ],
 "metadata": {
  "kernelspec": {
   "display_name": "Python 3 (ipykernel)",
   "language": "python",
   "name": "python3"
  },
  "language_info": {
   "codemirror_mode": {
    "name": "ipython",
    "version": 3
   },
   "file_extension": ".py",
   "mimetype": "text/x-python",
   "name": "python",
   "nbconvert_exporter": "python",
   "pygments_lexer": "ipython3",
   "version": "3.9.7"
  }
 },
 "nbformat": 4,
 "nbformat_minor": 5
}
